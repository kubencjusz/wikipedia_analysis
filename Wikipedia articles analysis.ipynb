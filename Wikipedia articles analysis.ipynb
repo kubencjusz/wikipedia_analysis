{
 "cells": [
  {
   "cell_type": "markdown",
   "metadata": {},
   "source": [
    "The analysis in this notebook was conducted using Wikipedia dump (Polish language version) dated 01.04.2018 (this version isn't available online anymore, but you can download the latest dumps from https://dumps.wikimedia.org/plwiki/ ). The files prepared originally in XML format were parsed to JSON files using https://github.com/attardi/wikiextractor scripts in order to process them easier in Python.\n",
    "\n",
    "From all the articles written in Polish only those containing biographies were chosen (using the filtering condition that the phrase \"ur.\" or \"(ur.\" (shortcut for \"born\" in Polish) must be present in the first 500 characters of an article). After applying that condition almost 270k articles were selected."
   ]
  },
  {
   "cell_type": "code",
   "execution_count": 1,
   "metadata": {},
   "outputs": [],
   "source": [
    "from WikipediaUtils import PrepareWikipedia # custom class to pre-process data\n",
    "\n",
    "import numpy as np\n",
    "import pandas as pd\n",
    "import matplotlib.pyplot as plt\n",
    "from sklearn.linear_model import LinearRegression # to check Zipf law\n",
    "from sklearn.feature_extraction.text import TfidfVectorizer, CountVectorizer\n",
    "from sklearn.decomposition import LatentDirichletAllocation\n",
    "from textblob import TextBlob as tb # for alternative tf-idf implementation\n",
    "\n",
    "# stemming for Polish:\n",
    "from pyMorfologik import Morfologik\n",
    "from pyMorfologik.parsing import ListParser #, DictParser\n",
    "\n",
    "import os\n",
    "import sys\n",
    "import json\n",
    "import operator\n",
    "from collections import Counter\n",
    "import pickle"
   ]
  },
  {
   "cell_type": "markdown",
   "metadata": {},
   "source": [
    "The most common and at the same time the least useful terms are the so called ___stop words___. These are the words which in conjunction with other words form sentences or phrases, such as \"and\", \"but\", \"which\" etc. This kind of words should be removed from data as they introduce noise and are irrelevant from the perspective of interesting patterns in data. Another benefit of removing such words is less memory usage.\n",
    "\n",
    "The next step in the analysis was to lowercase all words and use a transformation called ___lemmatization___. Lemmatization is a process of creating a lemma i.e. the canonical, dicionary form of a word. For example as a result of lemmatizing the word \"went\" we would get word \"go\", or \"the best\"$\\rightarrow$\"good\", \"mice\"$\\rightarrow$\"mouse\". Other useful transformation is ___stemming___, which aims at finding a root form of a word. The result of stemming may not be a valid word which could be found in a dictionary.\n",
    "\n",
    "In order to stem articles written in Polish I used PyMorfologik package which is Polish morphological analyzer, which uses data from Narodowy Korpus Języka Polskiego (NKJP).\n",
    "\n",
    "\n"
   ]
  },
  {
   "cell_type": "code",
   "execution_count": 2,
   "metadata": {
    "scrolled": true
   },
   "outputs": [],
   "source": [
    "from WikipediaUtils import PrepareWikipedia\n",
    "wiki_obj = PrepareWikipedia(path=\"/home/ec2-user\", word=[\"ur.\", \"(ur.\"])\n",
    "\n",
    "biogr = wiki_obj.extract_articles()\n",
    "biogr = wiki_obj.remove_stop_words(biogr)\n",
    "biogr = wiki_obj.stem_articles(biogr)\n",
    "#final = wiki_obj.extract_text(biogr)"
   ]
  },
  {
   "cell_type": "markdown",
   "metadata": {},
   "source": [
    "# Zipf law verification\n",
    "Zipf law describes an empirically observed rule which in case of text analysis relates to the fact, that for a given set of words occuring within a corpus of documents, the frequency of a given word is inversely proportional to its rank in a frequency table calculated for the entire corpus. In other words, the most frequent word in a corpus should be twice as frequent as the second most frequent, three times as frequent as the third most frequent etc.\n",
    "\n",
    "$frequency_{word} = \\frac{const.}{rank_{word}}$\n",
    "\n",
    "The differences between theoretical and empirical distribution were verified for the analysed articles. The linear model was fitted for words with ranks ranging from 10 to 1000 in a frequency table (both explanatory and dependent variables were log-transformed). The plot shows that Zipf law doesn't apply in case of this corpus - the most frequent words occur less often than it would result from theoretical distribution."
   ]
  },
  {
   "cell_type": "code",
   "execution_count": 3,
   "metadata": {},
   "outputs": [],
   "source": [
    "# count the number of occurences for all words\n",
    "all_words = [x for y in wiki_obj.extract_text(biogr) for x in y.split(\" \")]\n",
    "word_counts = Counter(all_words)\n",
    "# sort the result\n",
    "word_counts_sorted = sorted(word_counts.items(), key=operator.itemgetter(1), reverse = True)"
   ]
  },
  {
   "cell_type": "code",
   "execution_count": 4,
   "metadata": {},
   "outputs": [
    {
     "data": {
      "image/png": "[encoded data removed]",
      "text/plain": [
       "<Figure size 432x288 with 1 Axes>"
      ]
     },
     "metadata": {
      "needs_background": "light"
     },
     "output_type": "display_data"
    }
   ],
   "source": [
    "freq_df = pd.DataFrame(word_counts_sorted, columns = ['word', 'n'])\n",
    "freq_df['fraction'] = freq_df['n'] / sum(freq_df['n'])\n",
    "freq_df['rank'] = range(1,(freq_df.shape[0]+1))\n",
    "\n",
    "freq_df_top = freq_df.loc[(freq_df['rank']<=1000) & (freq_df['rank']>=10), :]\n",
    "\n",
    "# fitting linear regression\n",
    "lin_reg = LinearRegression()\n",
    "lin_reg.fit(X=np.log10(freq_df_top[['rank']]), y=np.log10(freq_df_top['fraction']))\n",
    "slope = np.float(lin_reg.coef_)\n",
    "intercept = np.float(lin_reg.intercept_)\n",
    "\n",
    "fig, ax = plt.subplots(1)\n",
    "# empirical:\n",
    "ax.plot(np.log10(freq_df_top['rank']), np.log10(freq_df_top['fraction']), color='blue', lw=2)\n",
    "# theoretical:\n",
    "ax.plot(np.log10(freq_df_top['rank']), slope*np.log10(freq_df_top['rank'])+intercept, color='red')\n",
    "ax.set(xlabel=\" log Rank\", ylabel=\" log Fraction\", title=\"Verification of Zipf law\")\n",
    "plt.show()"
   ]
  },
  {
   "cell_type": "markdown",
   "metadata": {},
   "source": [
    "# tf-idf calculation\n",
    "It is also useful to check the so called ___tf-idf___ (_term frequency - inverse document frequency_) statistics. It shows the weight, importance of a word in a particuar document taking into account the frequency of that word in a set of analysed documents.\n",
    "The statistics for a word $i$ in a document $d$ id calculated as a product of a frequency of that word in a document (term frequency part) and the logarithm of inverse frequency of that word in a corpus of documents:\n",
    "\n",
    "$tf(i, d) = \\frac{\\text{number of times words i occurs in document d}}{\\text{number of words in document d}}$\n",
    "\n",
    "$idf(i) = ln(\\frac{\\text{number of documents in a corpus}}{\\text{number of documents containing word i}})$\n",
    "\n",
    "In other words the tf-idf statistics is:\n",
    "* the largest when word $i$ occurs many times in a relatively small set of documents (including document $d$)\n",
    "* average when the word occurs rarely in document $d$ or appears in many documents in a corpus\n",
    "* the lowest when the word occurs in nearly all documents (_stop-words_ belong to this group)\n",
    "\n",
    "The following analysis was conducted for the top 100 (in terms of articles' length) biographies."
   ]
  },
  {
   "cell_type": "code",
   "execution_count": 5,
   "metadata": {},
   "outputs": [],
   "source": [
    "art_lengths = []\n",
    "for indeks, art in enumerate(biogr):\n",
    "    krotka = (art['title'],len(art['text']))\n",
    "    art_lengths.append(krotka)\n",
    "    \n",
    "longest_art = pd.DataFrame(art_lengths, columns = ['title','length']).sort_values('length', ascending=False)\n",
    "\n",
    "titles = longest_art['title'].iloc[:100].tolist()\n",
    "\n",
    "tf_idf_art = []\n",
    "for art in biogr:\n",
    "    if art['title'] in titles:\n",
    "        tf_idf_art.append(art)\n",
    "\n",
    "tf_idf_art = sorted(tf_idf_art, key=lambda k: len(k['text']), reverse=True)"
   ]
  },
  {
   "cell_type": "code",
   "execution_count": 6,
   "metadata": {},
   "outputs": [
    {
     "name": "stdout",
     "output_type": "stream",
     "text": [
      "Top words in document 1\n",
      "\tword: opon, TF-IDF: 0.0022\n",
      "\tword: okrążenia, TF-IDF: 0.0022\n",
      "\tword: rajdzie, TF-IDF: 0.0022\n",
      "\tword: okrążeń, TF-IDF: 0.0022\n",
      "\tword: opony, TF-IDF: 0.0022\n",
      "Top words in document 2\n",
      "\tword: hawana, TF-IDF: 0.003\n",
      "\tword: fidel, TF-IDF: 0.0029\n",
      "\tword: kuba, TF-IDF: 0.0028\n",
      "\tword: batisty, TF-IDF: 0.0025\n",
      "\tword: fidela, TF-IDF: 0.0025\n",
      "Top words in document 3\n",
      "\tword: antoniusza, TF-IDF: 0.0027\n",
      "\tword: antoniusz, TF-IDF: 0.0027\n",
      "\tword: konsul, TF-IDF: 0.0026\n",
      "\tword: mówca, TF-IDF: 0.0025\n",
      "\tword: filipika, TF-IDF: 0.0024\n",
      "Top words in document 4\n",
      "\tword: ruś, TF-IDF: 0.003\n",
      "\tword: darwina, TF-IDF: 0.0027\n",
      "\tword: płocki, TF-IDF: 0.0025\n",
      "\tword: luksemburski, TF-IDF: 0.0024\n",
      "\tword: beagle, TF-IDF: 0.0022\n",
      "Top words in document 5\n",
      "\tword: eserowiec, TF-IDF: 0.0032\n",
      "\tword: mienszewik, TF-IDF: 0.003\n",
      "\tword: trocki, TF-IDF: 0.0029\n",
      "\tword: uljanow, TF-IDF: 0.0025\n",
      "\tword: sdprr, TF-IDF: 0.0024\n",
      "Top words in document 6\n",
      "\tword: 5:3, TF-IDF: 0.0031\n",
      "\tword: wbił, TF-IDF: 0.0029\n",
      "\tword: sesję, TF-IDF: 0.0028\n",
      "\tword: maksymalnego, TF-IDF: 0.0027\n",
      "\tword: anglika, TF-IDF: 0.0027\n",
      "Top words in document 7\n",
      "\tword: osa, TF-IDF: 0.0033\n",
      "\tword: indoeuropejski, TF-IDF: 0.003\n",
      "\tword: miękki, TF-IDF: 0.0027\n",
      "\tword: lokat, TF-IDF: 0.0023\n",
      "\tword: mieszanka, TF-IDF: 0.0023\n",
      "Top words in document 8\n",
      "\tword: deportacja, TF-IDF: 0.0034\n",
      "\tword: getto, TF-IDF: 0.0034\n",
      "\tword: auschwitz, TF-IDF: 0.0032\n",
      "\tword: eichmannowi, TF-IDF: 0.0031\n",
      "\tword: rsha, TF-IDF: 0.0029\n",
      "Top words in document 9\n",
      "\tword: kochanowskiego, TF-IDF: 0.0037\n",
      "\tword: kochanowski, TF-IDF: 0.0029\n",
      "\tword: naczelnik, TF-IDF: 0.0028\n",
      "\tword: daszyński, TF-IDF: 0.0028\n",
      "\tword: belweder, TF-IDF: 0.0024\n",
      "Top words in document 10\n",
      "\tword: chadek, TF-IDF: 0.0039\n",
      "\tword: miedź, TF-IDF: 0.0033\n",
      "\tword: prawica, TF-IDF: 0.0032\n",
      "\tword: puczysta, TF-IDF: 0.003\n",
      "\tword: freia, TF-IDF: 0.0029\n"
     ]
    }
   ],
   "source": [
    "# creating blobs of text\n",
    "doc_list = [tb(tf_idf_art[i]['text']) for i in range(len(tf_idf_art))]\n",
    "\n",
    "# creating counts for idf part\n",
    "unique_words = [x.words for x in doc_list]\n",
    "unique_words = [x for y in unique_words for x in y]\n",
    "idf_dict = dict(Counter(unique_words))\n",
    "\n",
    "# defining functions to calculate tf-idf statistics\n",
    "def tf(word, blob):\n",
    "    return blob.words.count(word) / len(blob.words)\n",
    "\n",
    "def idf(word, doc_list):\n",
    "    return np.log(len(doc_list) / (1 + idf_dict.get(word, 0)))\n",
    "\n",
    "def tfidf(word, blob, doc_list):\n",
    "    return tf(word, blob) * idf(word, doc_list)\n",
    "\n",
    "# showing most relevant words for the 10 longest articles\n",
    "for i, blob in enumerate(doc_list[:10]):\n",
    "    print(\"Top words in document {}\".format(i+1)) # tf_idf_art[i]['title']\n",
    "    scores = {word: tfidf(word, blob, doc_list) for word in blob.words}\n",
    "    sorted_words = sorted(scores.items(), key=lambda x: x[1], reverse=True)\n",
    "    for word, score in sorted_words[:5]:\n",
    "        print(\"\\tword: {}, TF-IDF: {}\".format(word, round(score, 4)))"
   ]
  },
  {
   "cell_type": "markdown",
   "metadata": {},
   "source": [
    "Sklearn package has a dedicated class to calculate tf-idf statistics. The table shows most important in terms of tf-idf statistics words for the longest articles."
   ]
  },
  {
   "cell_type": "code",
   "execution_count": 9,
   "metadata": {},
   "outputs": [
    {
     "name": "stdout",
     "output_type": "stream",
     "text": [
      "[['miejscu' 'prix' 'odcinku' ... 'klasyfikacji' 'okrążeniu' 'kubica']\n",
      " ['ruch' 'przywódca' 'batisty' ... 'kubański' 'kub' 'castra']\n",
      " ['republika' 'wiek' 'retoryczny' ... 'senat' 'cezar' 'cyceron']\n",
      " ...\n",
      " ['kuomintangu' 'rewolucji' 'hongkongu' ... 'jat' 'suna' 'sun']\n",
      " ['kraj' 'lomé' 'ufc' ... 'prezydent' 'toga' 'gnassingbé']\n",
      " ['open' 'il' 'zagrać' ... 'runda' 'chilijczyk' 'gonzález']]\n"
     ]
    }
   ],
   "source": [
    "tf_idf_art = wiki_obj.extract_text(tf_idf_art)\n",
    "\n",
    "tfidf_obj = TfidfVectorizer(use_idf=True)\n",
    "X = tfidf_obj.fit_transform(tf_idf_art)\n",
    "#print(X)\n",
    "# tfidf_obj.get_params()\n",
    "\n",
    "feature_array = np.array(tfidf_obj.get_feature_names())\n",
    "tfidf_sorting = np.argsort(X.toarray(), axis = 1)#.flatten()[::-1]\n",
    "n = 15\n",
    "top_n = feature_array[tfidf_sorting][:, -n:]\n",
    "print(top_n)"
   ]
  },
  {
   "cell_type": "markdown",
   "metadata": {},
   "source": [
    "# Latent Dirichlet Allocation\n",
    "\n",
    "Latent Dirichlet Allocation is a generative statistical model, which enables modeling of latent variables. It is widely used in a field called topic modeling. In that case observable variables are the words in analysed documents and unobservable (latent) variables are the topics which particular words and documents belong to.\n",
    "\n",
    "The generative process entails that each document is a composition of some latent variables (topics) and each topic is explained by probability distribution of all the words occuring in a corpus of documents. The following assumptions are considered:\n",
    "1. Each latent topic is described by the multinomial distribution of all words in a dictionary\n",
    "2. Each document is described by the Dirichlet distribution of topics\n",
    "3. Each word in a document is sampled from the distribution of topics\n",
    "\n",
    "LDA generative process for a single document looks like this:\n",
    "1. The number of words that constitute a document is chosen\n",
    "2. The distribution of topics for a document is sampled from the Dirichlet distribution (e.g. given we have 3 latent topics - 20% of words come from topic A, 30% from topic B and 50% from topic C)\n",
    "3. For each word the following process takes place (we assume that order of words is irrelevant):\n",
    "\t* Choosing a topic which the word comes from by sampling from Dirichlet distribution specified in preceding step\n",
    "\t* Choosing a word by sampling from multinomial distribution of words for the chosen topic\n",
    "\n",
    "\n",
    "\n",
    "![LDA diagram](./images/lda_diagram.png)\n",
    "\n",
    "\n",
    "The above diagram presents LDA model in a plate notation (a notation which makes it possible to represent random variables that recur in a model). $D$ is a set of documents in a corpus, $N$ is a particular document in a set of all documents, $K$ signifies all latent topics and $V$ is a set of all words in a dictionary. The parameters $\\alpha$ and $\\beta$ are vectors (of length $K$ and $V$ respectively) and describe a priori Dirichlet distribution of topics in document and words in topics respectively.\n",
    "\n",
    "$\\beta_k$ is a distribution of words occuring in topic $k$, and $\\theta_d$ is a probability distribution of topics occuring in document $d$. $Z_{d,n}$ is a topic assigned to word $n$ in a document $d$ sampled from distribution $\\theta_d$. $W_{d,n}$ is an observable $n$-th word in a document $d$. This word is dependent on a distribution of topics in a document $d$ - $\\theta_d$ and a distribution of words in topic $k$ ($\\beta_k$) which was sampled from distribution $\\theta_d$.\n",
    "\n",
    "Assuming all the variables are observable, the joint probability distribution resulting from the model is specified as:\n",
    "\n",
    "${\\displaystyle \\prod_{k=1}^{K} p(\\beta_{k}|\\alpha)} {\\displaystyle \\prod_{d=1}^{D} p(\\theta_{d}|\\eta)} {\\displaystyle \\prod_{n=1}^{N} p(Z_{d,n}|\\theta_d)p(W_{d,n}|Z_{d,n},\\beta_{1,...,K})}$\n",
    "\n",
    "Inference is conducted by using Gibbs sampling for each of the topics $k$ in accordance with the equation:\n",
    "\n",
    "$\\LARGE \\frac{n_{d,k}+\\alpha_k}{\\sum_{i}^{K} n_{d,i}+\\alpha_i}\\frac{v_{k,w_{d,n}}+\\lambda_{w_{d,n}}}{\\sum_{i}^{V} v_{k,i}+\\lambda_i}$, where:\n",
    "\n",
    "* ${\\displaystyle n_{d,k}}$: how many times a document $d$ assigned topic $k$ to its words\n",
    "* $v_{k,w_{d,n}}$: how many times a word $w_{d,n}$ was chosen by topic $k$\n",
    "* $\\alpha_k$: the parameter of Dirichlet distribution, which specifies a distribution of topics within documents\n",
    "* $\\lambda_{w_{d,n}}$: the parameter of Dirichlet distribution, which specifies a distribution of words within a topic\n",
    "\n",
    "The first part of the equation estimates how probable is topic $k$ in document $d$ and the second part estimates how probable is occurence of word $w_{d,n}$ in topic $k$. Lastly, the distribution of all the topics is normalized and a new topic is sampled for a given word.\n",
    "\n",
    "\n",
    "If you want to dive deep into LDA and more thorough explanation of the topic models, I recommend watching a two-parts lecture of prof. David Blei, the co-creator of LDA available here: http://videolectures.net/mlss09uk_blei_tm/\n",
    "\n",
    "Now, let's prepare some Wikipedia articles to test LDA on them. 5 groups of relatively distinct \"_topics_\" were selected: biographies of actors, writers, painters, football players and politicians. To ensure even representation of all of those professions, 5000 articles were sampled for each of them."
   ]
  },
  {
   "cell_type": "code",
   "execution_count": 10,
   "metadata": {},
   "outputs": [],
   "source": [
    "from numpy.random import choice as sample, seed\n",
    "\n",
    "def extract_topic_articles(list_of_art, words = ['aktor']):\n",
    "    all_articles = []\n",
    "    tmp = []\n",
    "    # check if given word(s) occur in the first 500 characters\n",
    "    for idx, art in enumerate(list_of_art):\n",
    "        if any(x in art['text'][:500] for x in words):\n",
    "            tmp.append((art['title'], art['text']))\n",
    "    \n",
    "    # removing words that will be overrepresented from definition\n",
    "    for word in words:\n",
    "        tmp = [(x[0], x[1].replace(word, \"\")) for x in tmp]\n",
    "    all_articles.extend(tmp)\n",
    "    return(all_articles)\n",
    "\n",
    "\n",
    "# take 5k articles from each of the professions\n",
    "actors = extract_topic_articles(biogr, ['aktorka', 'aktor'])[:5000]\n",
    "politicians = extract_topic_articles(biogr, ['polityk'])[:5000]\n",
    "painters = extract_topic_articles(biogr, ['malarz', 'malarka'])[:5000]\n",
    "football = extract_topic_articles(biogr, ['piłkarz', 'piłkarka'])[:5000]\n",
    "writers = extract_topic_articles(biogr, ['pisarz', 'pisarka'])[:5000]\n",
    "\n",
    "art_lda = actors + politicians + painters + football + writers\n",
    "art_lda_txt = [x[1] for x in art_lda]"
   ]
  },
  {
   "cell_type": "markdown",
   "metadata": {},
   "source": [
    "The data is ready, now it's time to create a matrix with counts of words in each of the documents. One could use tf (or tf-idf) statistics as a martix' values as well. The object called $\\text{tf_matrix}$ is a sparse matrix of shape $25000 x (\\text{number of unique words in a vocabulary})$. One can notice that the most important terms in 2 out of 5 topics (topic 1 and 3 to be precise) concern football. The fourth topic may be related to politicians and the fifth to art-related articles."
   ]
  },
  {
   "cell_type": "code",
   "execution_count": 11,
   "metadata": {},
   "outputs": [
    {
     "name": "stderr",
     "output_type": "stream",
     "text": [
      "/opt/conda/lib/python3.7/site-packages/sklearn/decomposition/online_lda.py:536: DeprecationWarning: The default value for 'learning_method' will be changed from 'online' to 'batch' in the release 0.20. This warning was introduced in 0.18.\n",
      "  DeprecationWarning)\n"
     ]
    },
    {
     "name": "stdout",
     "output_type": "stream",
     "text": [
      "iteration: 1 of max_iter: 10\n",
      "iteration: 2 of max_iter: 10\n",
      "iteration: 3 of max_iter: 10\n",
      "iteration: 4 of max_iter: 10\n",
      "iteration: 5 of max_iter: 10\n",
      "iteration: 6 of max_iter: 10\n",
      "iteration: 7 of max_iter: 10\n",
      "iteration: 8 of max_iter: 10\n",
      "iteration: 9 of max_iter: 10\n",
      "iteration: 10 of max_iter: 10\n",
      "TOPIC 1: \n",
      " występować mecz klub grać pozycja reprezentacja kariera zadebiutować lato zdobyć piłkarski sezon wystąpić zespół zawodnik\n",
      "TOPIC 2: \n",
      " de francuski la włoski hiszpański josé meksykański san szwedzki paryżu primera hiszpanii jean di división\n",
      "TOPIC 3: \n",
      " latach min później zadebiutował meczu sierpnia zdobył pozycji reprezentacji stycznia karierę 2010 marca lipca warszawie\n",
      "TOPIC 4: \n",
      " polski lato członek partia rok uniwersytet następnie pracować funkcja minister stanowisko wojna ukończyć narodowy warszawa\n",
      "TOPIC 5: \n",
      " sztuk rok powieść książka lato życie polski mina obraz nagroda artysta zostać film praca the\n"
     ]
    }
   ],
   "source": [
    "tf_vectorizer = CountVectorizer()\n",
    "tf_matrix = tf_vectorizer.fit_transform(art_lda_txt)\n",
    "tf_feature_names = tf_vectorizer.get_feature_names()\n",
    "\n",
    "# Latent Dirichlet Allocation with 5 hidden topics\n",
    "# As LDA is stochastic in its nature, you may get different results\n",
    "lda_obj = LatentDirichletAllocation(n_components=5, verbose=1)\n",
    "lda_obj.fit(tf_matrix)\n",
    "# prediction:\n",
    "lda_scores = lda_obj.transform(tf_matrix)\n",
    "\n",
    "\n",
    "# 15 most important words for each of latent topic:\n",
    "important_features = []\n",
    "for topic_idx, topic in enumerate(lda_obj.components_):\n",
    "    top = \" \".join([tf_feature_names[i] for i in topic.argsort()[:-15 - 1:-1]])\n",
    "    important_features.append(top)\n",
    "\n",
    "for idx, x in enumerate(important_features):\n",
    "    print(f\"TOPIC {idx+1}: \\n {x}\")"
   ]
  },
  {
   "cell_type": "code",
   "execution_count": 15,
   "metadata": {},
   "outputs": [
    {
     "name": "stdout",
     "output_type": "stream",
     "text": [
      "doc: 1 topic: 5\n",
      "doc: 2 topic: 4\n",
      "doc: 3 topic: 1\n",
      "doc: 4 topic: 5\n",
      "doc: 5 topic: 5\n"
     ]
    }
   ],
   "source": [
    "# to get the most important topic for the first 5 articles just type:\n",
    "for n in range(lda_scores.shape[0])[:5]:\n",
    "    topic_most_pr = lda_scores[n].argmax()\n",
    "    print(\"doc: {} topic: {}\".format(n+1,topic_most_pr+1))\n"
   ]
  }
 ],
 "metadata": {
  "kernelspec": {
   "display_name": "Python 3",
   "language": "python",
   "name": "python3"
  },
  "language_info": {
   "codemirror_mode": {
    "name": "ipython",
    "version": 3
   },
   "file_extension": ".py",
   "mimetype": "text/x-python",
   "name": "python",
   "nbconvert_exporter": "python",
   "pygments_lexer": "ipython3",
   "version": "3.7.0"
  }
 },
 "nbformat": 4,
 "nbformat_minor": 2
}
